{
 "cells": [
  {
   "cell_type": "code",
   "id": "initial_id",
   "metadata": {
    "collapsed": true,
    "ExecuteTime": {
     "end_time": "2024-08-06T06:35:55.100934Z",
     "start_time": "2024-08-06T06:35:40.456542Z"
    }
   },
   "source": [
    "!pip install ultralytics\n",
    "!pip install roboflow\n",
    "!pip install --upgrade pip\n"
   ],
   "outputs": [
    {
     "name": "stdout",
     "output_type": "stream",
     "text": [
      "Requirement already satisfied: ultralytics in d:\\objectdetection\\vehicleobjectdetection\\.venv\\lib\\site-packages (8.2.61)\n",
      "Requirement already satisfied: numpy<2.0.0,>=1.23.0 in d:\\objectdetection\\vehicleobjectdetection\\.venv\\lib\\site-packages (from ultralytics) (1.26.4)\n",
      "Requirement already satisfied: matplotlib>=3.3.0 in d:\\objectdetection\\vehicleobjectdetection\\.venv\\lib\\site-packages (from ultralytics) (3.9.1)\n",
      "Requirement already satisfied: opencv-python>=4.6.0 in d:\\objectdetection\\vehicleobjectdetection\\.venv\\lib\\site-packages (from ultralytics) (4.10.0.84)\n",
      "Requirement already satisfied: pillow>=7.1.2 in d:\\objectdetection\\vehicleobjectdetection\\.venv\\lib\\site-packages (from ultralytics) (10.4.0)\n",
      "Requirement already satisfied: pyyaml>=5.3.1 in d:\\objectdetection\\vehicleobjectdetection\\.venv\\lib\\site-packages (from ultralytics) (6.0.1)\n",
      "Requirement already satisfied: requests>=2.23.0 in d:\\objectdetection\\vehicleobjectdetection\\.venv\\lib\\site-packages (from ultralytics) (2.32.3)\n",
      "Requirement already satisfied: scipy>=1.4.1 in d:\\objectdetection\\vehicleobjectdetection\\.venv\\lib\\site-packages (from ultralytics) (1.14.0)\n",
      "Requirement already satisfied: torch>=1.8.0 in d:\\objectdetection\\vehicleobjectdetection\\.venv\\lib\\site-packages (from ultralytics) (2.3.1)\n",
      "Requirement already satisfied: torchvision>=0.9.0 in d:\\objectdetection\\vehicleobjectdetection\\.venv\\lib\\site-packages (from ultralytics) (0.18.1)\n",
      "Requirement already satisfied: tqdm>=4.64.0 in d:\\objectdetection\\vehicleobjectdetection\\.venv\\lib\\site-packages (from ultralytics) (4.66.4)\n",
      "Requirement already satisfied: psutil in d:\\objectdetection\\vehicleobjectdetection\\.venv\\lib\\site-packages (from ultralytics) (6.0.0)\n",
      "Requirement already satisfied: py-cpuinfo in d:\\objectdetection\\vehicleobjectdetection\\.venv\\lib\\site-packages (from ultralytics) (9.0.0)\n",
      "Requirement already satisfied: pandas>=1.1.4 in d:\\objectdetection\\vehicleobjectdetection\\.venv\\lib\\site-packages (from ultralytics) (2.2.2)\n",
      "Requirement already satisfied: seaborn>=0.11.0 in d:\\objectdetection\\vehicleobjectdetection\\.venv\\lib\\site-packages (from ultralytics) (0.13.2)\n",
      "Requirement already satisfied: ultralytics-thop>=2.0.0 in d:\\objectdetection\\vehicleobjectdetection\\.venv\\lib\\site-packages (from ultralytics) (2.0.0)\n",
      "Requirement already satisfied: contourpy>=1.0.1 in d:\\objectdetection\\vehicleobjectdetection\\.venv\\lib\\site-packages (from matplotlib>=3.3.0->ultralytics) (1.2.1)\n",
      "Requirement already satisfied: cycler>=0.10 in d:\\objectdetection\\vehicleobjectdetection\\.venv\\lib\\site-packages (from matplotlib>=3.3.0->ultralytics) (0.12.1)\n",
      "Requirement already satisfied: fonttools>=4.22.0 in d:\\objectdetection\\vehicleobjectdetection\\.venv\\lib\\site-packages (from matplotlib>=3.3.0->ultralytics) (4.53.1)\n",
      "Requirement already satisfied: kiwisolver>=1.3.1 in d:\\objectdetection\\vehicleobjectdetection\\.venv\\lib\\site-packages (from matplotlib>=3.3.0->ultralytics) (1.4.5)\n",
      "Requirement already satisfied: packaging>=20.0 in d:\\objectdetection\\vehicleobjectdetection\\.venv\\lib\\site-packages (from matplotlib>=3.3.0->ultralytics) (24.1)\n",
      "Requirement already satisfied: pyparsing>=2.3.1 in d:\\objectdetection\\vehicleobjectdetection\\.venv\\lib\\site-packages (from matplotlib>=3.3.0->ultralytics) (3.1.2)\n",
      "Requirement already satisfied: python-dateutil>=2.7 in d:\\objectdetection\\vehicleobjectdetection\\.venv\\lib\\site-packages (from matplotlib>=3.3.0->ultralytics) (2.9.0.post0)\n",
      "Requirement already satisfied: pytz>=2020.1 in d:\\objectdetection\\vehicleobjectdetection\\.venv\\lib\\site-packages (from pandas>=1.1.4->ultralytics) (2024.1)\n",
      "Requirement already satisfied: tzdata>=2022.7 in d:\\objectdetection\\vehicleobjectdetection\\.venv\\lib\\site-packages (from pandas>=1.1.4->ultralytics) (2024.1)\n",
      "Requirement already satisfied: charset-normalizer<4,>=2 in d:\\objectdetection\\vehicleobjectdetection\\.venv\\lib\\site-packages (from requests>=2.23.0->ultralytics) (3.3.2)\n",
      "Requirement already satisfied: idna<4,>=2.5 in d:\\objectdetection\\vehicleobjectdetection\\.venv\\lib\\site-packages (from requests>=2.23.0->ultralytics) (3.7)\n",
      "Requirement already satisfied: urllib3<3,>=1.21.1 in d:\\objectdetection\\vehicleobjectdetection\\.venv\\lib\\site-packages (from requests>=2.23.0->ultralytics) (2.2.2)\n",
      "Requirement already satisfied: certifi>=2017.4.17 in d:\\objectdetection\\vehicleobjectdetection\\.venv\\lib\\site-packages (from requests>=2.23.0->ultralytics) (2024.7.4)\n",
      "Requirement already satisfied: filelock in d:\\objectdetection\\vehicleobjectdetection\\.venv\\lib\\site-packages (from torch>=1.8.0->ultralytics) (3.15.4)\n",
      "Requirement already satisfied: typing-extensions>=4.8.0 in d:\\objectdetection\\vehicleobjectdetection\\.venv\\lib\\site-packages (from torch>=1.8.0->ultralytics) (4.12.2)\n",
      "Requirement already satisfied: sympy in d:\\objectdetection\\vehicleobjectdetection\\.venv\\lib\\site-packages (from torch>=1.8.0->ultralytics) (1.13.0)\n",
      "Requirement already satisfied: networkx in d:\\objectdetection\\vehicleobjectdetection\\.venv\\lib\\site-packages (from torch>=1.8.0->ultralytics) (3.3)\n",
      "Requirement already satisfied: jinja2 in d:\\objectdetection\\vehicleobjectdetection\\.venv\\lib\\site-packages (from torch>=1.8.0->ultralytics) (3.1.4)\n",
      "Requirement already satisfied: fsspec in d:\\objectdetection\\vehicleobjectdetection\\.venv\\lib\\site-packages (from torch>=1.8.0->ultralytics) (2024.6.1)\n",
      "Requirement already satisfied: mkl<=2021.4.0,>=2021.1.1 in d:\\objectdetection\\vehicleobjectdetection\\.venv\\lib\\site-packages (from torch>=1.8.0->ultralytics) (2021.4.0)\n",
      "Requirement already satisfied: colorama in d:\\objectdetection\\vehicleobjectdetection\\.venv\\lib\\site-packages (from tqdm>=4.64.0->ultralytics) (0.4.6)\n",
      "Requirement already satisfied: intel-openmp==2021.* in d:\\objectdetection\\vehicleobjectdetection\\.venv\\lib\\site-packages (from mkl<=2021.4.0,>=2021.1.1->torch>=1.8.0->ultralytics) (2021.4.0)\n",
      "Requirement already satisfied: tbb==2021.* in d:\\objectdetection\\vehicleobjectdetection\\.venv\\lib\\site-packages (from mkl<=2021.4.0,>=2021.1.1->torch>=1.8.0->ultralytics) (2021.13.0)\n",
      "Requirement already satisfied: six>=1.5 in d:\\objectdetection\\vehicleobjectdetection\\.venv\\lib\\site-packages (from python-dateutil>=2.7->matplotlib>=3.3.0->ultralytics) (1.16.0)\n",
      "Requirement already satisfied: MarkupSafe>=2.0 in d:\\objectdetection\\vehicleobjectdetection\\.venv\\lib\\site-packages (from jinja2->torch>=1.8.0->ultralytics) (2.1.5)\n",
      "Requirement already satisfied: mpmath<1.4,>=1.1.0 in d:\\objectdetection\\vehicleobjectdetection\\.venv\\lib\\site-packages (from sympy->torch>=1.8.0->ultralytics) (1.3.0)\n"
     ]
    },
    {
     "name": "stderr",
     "output_type": "stream",
     "text": [
      "\n",
      "[notice] A new release of pip is available: 23.2.1 -> 24.2\n",
      "[notice] To update, run: python.exe -m pip install --upgrade pip\n"
     ]
    },
    {
     "name": "stdout",
     "output_type": "stream",
     "text": [
      "Requirement already satisfied: roboflow in d:\\objectdetection\\vehicleobjectdetection\\.venv\\lib\\site-packages (1.1.35)\n",
      "Requirement already satisfied: certifi in d:\\objectdetection\\vehicleobjectdetection\\.venv\\lib\\site-packages (from roboflow) (2024.7.4)\n",
      "Requirement already satisfied: chardet==4.0.0 in d:\\objectdetection\\vehicleobjectdetection\\.venv\\lib\\site-packages (from roboflow) (4.0.0)\n",
      "Requirement already satisfied: idna==3.7 in d:\\objectdetection\\vehicleobjectdetection\\.venv\\lib\\site-packages (from roboflow) (3.7)\n",
      "Requirement already satisfied: cycler in d:\\objectdetection\\vehicleobjectdetection\\.venv\\lib\\site-packages (from roboflow) (0.12.1)\n",
      "Requirement already satisfied: kiwisolver>=1.3.1 in d:\\objectdetection\\vehicleobjectdetection\\.venv\\lib\\site-packages (from roboflow) (1.4.5)\n",
      "Requirement already satisfied: matplotlib in d:\\objectdetection\\vehicleobjectdetection\\.venv\\lib\\site-packages (from roboflow) (3.9.1)\n",
      "Requirement already satisfied: numpy>=1.18.5 in d:\\objectdetection\\vehicleobjectdetection\\.venv\\lib\\site-packages (from roboflow) (1.26.4)\n",
      "Requirement already satisfied: opencv-python-headless==4.10.0.84 in d:\\objectdetection\\vehicleobjectdetection\\.venv\\lib\\site-packages (from roboflow) (4.10.0.84)\n",
      "Requirement already satisfied: Pillow>=7.1.2 in d:\\objectdetection\\vehicleobjectdetection\\.venv\\lib\\site-packages (from roboflow) (10.4.0)\n",
      "Requirement already satisfied: python-dateutil in d:\\objectdetection\\vehicleobjectdetection\\.venv\\lib\\site-packages (from roboflow) (2.9.0.post0)\n",
      "Requirement already satisfied: python-dotenv in d:\\objectdetection\\vehicleobjectdetection\\.venv\\lib\\site-packages (from roboflow) (1.0.1)\n",
      "Requirement already satisfied: requests in d:\\objectdetection\\vehicleobjectdetection\\.venv\\lib\\site-packages (from roboflow) (2.32.3)\n",
      "Requirement already satisfied: six in d:\\objectdetection\\vehicleobjectdetection\\.venv\\lib\\site-packages (from roboflow) (1.16.0)\n",
      "Requirement already satisfied: urllib3>=1.26.6 in d:\\objectdetection\\vehicleobjectdetection\\.venv\\lib\\site-packages (from roboflow) (2.2.2)\n",
      "Requirement already satisfied: tqdm>=4.41.0 in d:\\objectdetection\\vehicleobjectdetection\\.venv\\lib\\site-packages (from roboflow) (4.66.4)\n",
      "Requirement already satisfied: PyYAML>=5.3.1 in d:\\objectdetection\\vehicleobjectdetection\\.venv\\lib\\site-packages (from roboflow) (6.0.1)\n",
      "Requirement already satisfied: requests-toolbelt in d:\\objectdetection\\vehicleobjectdetection\\.venv\\lib\\site-packages (from roboflow) (1.0.0)\n",
      "Requirement already satisfied: filetype in d:\\objectdetection\\vehicleobjectdetection\\.venv\\lib\\site-packages (from roboflow) (1.2.0)\n",
      "Requirement already satisfied: colorama in d:\\objectdetection\\vehicleobjectdetection\\.venv\\lib\\site-packages (from tqdm>=4.41.0->roboflow) (0.4.6)\n",
      "Requirement already satisfied: contourpy>=1.0.1 in d:\\objectdetection\\vehicleobjectdetection\\.venv\\lib\\site-packages (from matplotlib->roboflow) (1.2.1)\n",
      "Requirement already satisfied: fonttools>=4.22.0 in d:\\objectdetection\\vehicleobjectdetection\\.venv\\lib\\site-packages (from matplotlib->roboflow) (4.53.1)\n",
      "Requirement already satisfied: packaging>=20.0 in d:\\objectdetection\\vehicleobjectdetection\\.venv\\lib\\site-packages (from matplotlib->roboflow) (24.1)\n",
      "Requirement already satisfied: pyparsing>=2.3.1 in d:\\objectdetection\\vehicleobjectdetection\\.venv\\lib\\site-packages (from matplotlib->roboflow) (3.1.2)\n",
      "Requirement already satisfied: charset-normalizer<4,>=2 in d:\\objectdetection\\vehicleobjectdetection\\.venv\\lib\\site-packages (from requests->roboflow) (3.3.2)\n"
     ]
    },
    {
     "name": "stderr",
     "output_type": "stream",
     "text": [
      "\n",
      "[notice] A new release of pip is available: 23.2.1 -> 24.2\n",
      "[notice] To update, run: python.exe -m pip install --upgrade pip\n"
     ]
    },
    {
     "name": "stdout",
     "output_type": "stream",
     "text": [
      "Requirement already satisfied: pip in d:\\objectdetection\\vehicleobjectdetection\\.venv\\lib\\site-packages (23.2.1)\n",
      "Collecting pip\n",
      "  Obtaining dependency information for pip from https://files.pythonhosted.org/packages/d4/55/90db48d85f7689ec6f81c0db0622d704306c5284850383c090e6c7195a5c/pip-24.2-py3-none-any.whl.metadata\n",
      "  Downloading pip-24.2-py3-none-any.whl.metadata (3.6 kB)\n",
      "Downloading pip-24.2-py3-none-any.whl (1.8 MB)\n",
      "   ---------------------------------------- 0.0/1.8 MB ? eta -:--:--\n",
      "   ---------------------------------------- 0.0/1.8 MB ? eta -:--:--\n",
      "    --------------------------------------- 0.0/1.8 MB 487.6 kB/s eta 0:00:04\n",
      "   - -------------------------------------- 0.1/1.8 MB 653.6 kB/s eta 0:00:03\n",
      "   -- ------------------------------------- 0.1/1.8 MB 726.2 kB/s eta 0:00:03\n",
      "   --- ------------------------------------ 0.2/1.8 MB 807.1 kB/s eta 0:00:03\n",
      "   ---- ----------------------------------- 0.2/1.8 MB 778.2 kB/s eta 0:00:03\n",
      "   ----- ---------------------------------- 0.3/1.8 MB 827.5 kB/s eta 0:00:02\n",
      "   ------ --------------------------------- 0.3/1.8 MB 774.0 kB/s eta 0:00:02\n",
      "   ------ --------------------------------- 0.3/1.8 MB 785.7 kB/s eta 0:00:02\n",
      "   ------- -------------------------------- 0.4/1.8 MB 794.9 kB/s eta 0:00:02\n",
      "   -------- ------------------------------- 0.4/1.8 MB 791.2 kB/s eta 0:00:02\n",
      "   --------- ------------------------------ 0.4/1.8 MB 752.1 kB/s eta 0:00:02\n",
      "   ---------- ----------------------------- 0.5/1.8 MB 779.5 kB/s eta 0:00:02\n",
      "   ---------- ----------------------------- 0.5/1.8 MB 790.3 kB/s eta 0:00:02\n",
      "   ------------ --------------------------- 0.6/1.8 MB 822.9 kB/s eta 0:00:02\n",
      "   ------------ --------------------------- 0.6/1.8 MB 818.6 kB/s eta 0:00:02\n",
      "   ------------- -------------------------- 0.6/1.8 MB 819.2 kB/s eta 0:00:02\n",
      "   --------------- ------------------------ 0.7/1.8 MB 860.8 kB/s eta 0:00:02\n",
      "   ---------------- ----------------------- 0.7/1.8 MB 846.4 kB/s eta 0:00:02\n",
      "   ----------------- ---------------------- 0.8/1.8 MB 881.6 kB/s eta 0:00:02\n",
      "   ------------------ --------------------- 0.9/1.8 MB 906.1 kB/s eta 0:00:02\n",
      "   ------------------- -------------------- 0.9/1.8 MB 908.8 kB/s eta 0:00:02\n",
      "   -------------------- ------------------- 1.0/1.8 MB 913.8 kB/s eta 0:00:01\n",
      "   --------------------- ------------------ 1.0/1.8 MB 911.9 kB/s eta 0:00:01\n",
      "   ---------------------- ----------------- 1.0/1.8 MB 936.0 kB/s eta 0:00:01\n",
      "   ----------------------- ---------------- 1.1/1.8 MB 912.4 kB/s eta 0:00:01\n",
      "   ------------------------ --------------- 1.1/1.8 MB 915.6 kB/s eta 0:00:01\n",
      "   ------------------------- -------------- 1.2/1.8 MB 922.1 kB/s eta 0:00:01\n",
      "   -------------------------- ------------- 1.2/1.8 MB 923.7 kB/s eta 0:00:01\n",
      "   --------------------------- ------------ 1.3/1.8 MB 929.5 kB/s eta 0:00:01\n",
      "   ---------------------------- ----------- 1.3/1.8 MB 945.8 kB/s eta 0:00:01\n",
      "   ------------------------------ --------- 1.4/1.8 MB 947.1 kB/s eta 0:00:01\n",
      "   ------------------------------ --------- 1.4/1.8 MB 951.4 kB/s eta 0:00:01\n",
      "   -------------------------------- ------- 1.5/1.8 MB 952.4 kB/s eta 0:00:01\n",
      "   --------------------------------- ------ 1.5/1.8 MB 956.5 kB/s eta 0:00:01\n",
      "   --------------------------------- ------ 1.5/1.8 MB 957.2 kB/s eta 0:00:01\n",
      "   ----------------------------------- ---- 1.6/1.8 MB 955.4 kB/s eta 0:00:01\n",
      "   ----------------------------------- ---- 1.6/1.8 MB 952.4 kB/s eta 0:00:01\n",
      "   ------------------------------------ --- 1.6/1.8 MB 927.7 kB/s eta 0:00:01\n",
      "   ------------------------------------- -- 1.7/1.8 MB 934.5 kB/s eta 0:00:01\n",
      "   -------------------------------------- - 1.7/1.8 MB 932.9 kB/s eta 0:00:01\n",
      "   ---------------------------------------  1.8/1.8 MB 936.8 kB/s eta 0:00:01\n",
      "   ---------------------------------------- 1.8/1.8 MB 939.1 kB/s eta 0:00:00\n"
     ]
    },
    {
     "name": "stderr",
     "output_type": "stream",
     "text": [
      "ERROR: To modify pip, please run the following command:\n",
      "D:\\objectdetection\\VehicleObjectDetection\\.venv\\Scripts\\python.exe -m pip install --upgrade pip\n",
      "\n",
      "[notice] A new release of pip is available: 23.2.1 -> 24.2\n",
      "[notice] To update, run: python.exe -m pip install --upgrade pip\n"
     ]
    }
   ],
   "execution_count": 1
  },
  {
   "metadata": {
    "ExecuteTime": {
     "end_time": "2024-08-06T06:37:51.686004Z",
     "start_time": "2024-08-06T06:35:55.102442Z"
    }
   },
   "cell_type": "code",
   "source": [
    "from roboflow import Roboflow\n",
    "rf = Roboflow(api_key=\"gPpyBoXOksrX5XzFAHtM\")\n",
    "project = rf.workspace(\"people-detection-o3dn2\").project(\"people-detection-fwbyh\")\n",
    "version = project.version(3)\n",
    "dataset = version.download(\"yolov7\")\n",
    "\n"
   ],
   "id": "d974400b568edbc1",
   "outputs": [
    {
     "name": "stdout",
     "output_type": "stream",
     "text": [
      "loading Roboflow workspace...\n",
      "loading Roboflow project...\n"
     ]
    },
    {
     "name": "stderr",
     "output_type": "stream",
     "text": [
      "Downloading Dataset Version Zip in people-detection-3 to yolov7pytorch:: 100%|██████████| 113502/113502 [01:48<00:00, 1050.08it/s]"
     ]
    },
    {
     "name": "stdout",
     "output_type": "stream",
     "text": [
      "\n"
     ]
    },
    {
     "name": "stderr",
     "output_type": "stream",
     "text": [
      "\n",
      "Extracting Dataset Version Zip to people-detection-3 in yolov7pytorch:: 100%|██████████| 2106/2106 [00:01<00:00, 1792.88it/s]\n"
     ]
    }
   ],
   "execution_count": 2
  },
  {
   "metadata": {
    "ExecuteTime": {
     "end_time": "2024-08-06T16:32:27.734404Z",
     "start_time": "2024-08-06T07:00:09.905375Z"
    }
   },
   "cell_type": "code",
   "source": [
    "!python train.py --img 640 --batch 16 --epochs 100 --data D:/objectdetection/VehicleObjectDetection/training/people-detection-3/data.yaml --weights yolov7.pt\n",
    "\n",
    "\n"
   ],
   "id": "5ae3cdab0662cc03",
   "outputs": [
    {
     "name": "stdout",
     "output_type": "stream",
     "text": [
      "^C\n"
     ]
    }
   ],
   "execution_count": 28
  },
  {
   "metadata": {
    "ExecuteTime": {
     "end_time": "2024-08-06T06:47:52.657526Z",
     "start_time": "2024-08-06T06:47:52.648544Z"
    }
   },
   "cell_type": "code",
   "source": "",
   "id": "cfec8a96e4b14877",
   "outputs": [
    {
     "name": "stdout",
     "output_type": "stream",
     "text": [
      "D:\\objectdetection\\VehicleObjectDetection\\yolov7\n"
     ]
    },
    {
     "data": {
      "text/plain": [
       "'D:\\\\objectdetection\\\\VehicleObjectDetection\\\\training\\\\people-detection-3'"
      ]
     },
     "execution_count": 18,
     "metadata": {},
     "output_type": "execute_result"
    }
   ],
   "execution_count": 18
  },
  {
   "metadata": {
    "ExecuteTime": {
     "end_time": "2024-08-06T06:49:17.972737Z",
     "start_time": "2024-08-06T06:49:15.659511Z"
    }
   },
   "cell_type": "code",
   "source": "",
   "id": "945885fc57488ec3",
   "outputs": [
    {
     "name": "stderr",
     "output_type": "stream",
     "text": [
      "Traceback (most recent call last):\n",
      "  File \"D:\\objectdetection\\VehicleObjectDetection\\yolov7\\train.py\", line 21, in <module>\n",
      "    from torch.utils.tensorboard import SummaryWriter\n",
      "  File \"D:\\objectdetection\\VehicleObjectDetection\\.venv\\Lib\\site-packages\\torch\\utils\\tensorboard\\__init__.py\", line 1, in <module>\n",
      "    import tensorboard\n",
      "ModuleNotFoundError: No module named 'tensorboard'\n"
     ]
    }
   ],
   "execution_count": 20
  },
  {
   "metadata": {
    "ExecuteTime": {
     "end_time": "2024-07-18T05:10:40.804794Z",
     "start_time": "2024-07-18T05:10:07.037395Z"
    }
   },
   "cell_type": "code",
   "source": [
    "\n",
    "!python train.py --img 640 --batch 16 --epochs 100 --data /training/car/data.yaml --weights yolov5x.pt\n",
    "\n",
    "\n",
    "!python train.py --img 640 --batch 16 --epochs 100 --data /training/licence-plate-2/data.yaml --weights yolov5x.pt\n",
    "\n",
    "!python train.py --img 640 --batch 16 --epochs 100 --data /training/Pedestrian-Volume-1/data.yaml --weights yolov5x.pt\n",
    "\n"
   ],
   "id": "35ce6d5bb71252c",
   "outputs": [
    {
     "name": "stdout",
     "output_type": "stream",
     "text": [
      "D:\\objectdetection\\VehicleObjectDetection\\training\\yolov5\\yolov5\n"
     ]
    },
    {
     "name": "stderr",
     "output_type": "stream",
     "text": [
      "Cloning into 'yolov5'...\n",
      "D:\\objectdetection\\VehicleObjectDetection\\.venv\\Lib\\site-packages\\IPython\\core\\magics\\osm.py:417: UserWarning: This is now an optional IPython functionality, setting dhist requires you to install the `pickleshare` library.\n",
      "  self.shell.db['dhist'] = compress_dhist(dhist)[-100:]\n",
      "\u001B[34m\u001B[1mtrain: \u001B[0mweights=yolov5x.pt, cfg=, data=/training/car/data.yaml, hyp=data\\hyps\\hyp.scratch-low.yaml, epochs=100, batch_size=16, imgsz=640, rect=False, resume=False, nosave=False, noval=False, noautoanchor=False, noplots=False, evolve=None, evolve_population=data\\hyps, resume_evolve=None, bucket=, cache=None, image_weights=False, device=, multi_scale=False, single_cls=False, optimizer=SGD, sync_bn=False, workers=8, project=runs\\train, name=exp, exist_ok=False, quad=False, cos_lr=False, label_smoothing=0.0, patience=100, freeze=[0], save_period=-1, seed=0, local_rank=-1, entity=None, upload_dataset=False, bbox_interval=-1, artifact_alias=latest, ndjson_console=False, ndjson_file=False\n",
      "\u001B[34m\u001B[1mgithub: \u001B[0mup to date with https://github.com/ultralytics/yolov5 \n",
      "Traceback (most recent call last):\n",
      "  File \"D:\\objectdetection\\VehicleObjectDetection\\training\\yolov5\\yolov5\\train.py\", line 986, in <module>\n",
      "    main(opt)\n",
      "  File \"D:\\objectdetection\\VehicleObjectDetection\\training\\yolov5\\yolov5\\train.py\", line 656, in main\n",
      "    check_file(opt.data),\n",
      "    ^^^^^^^^^^^^^^^^^^^^\n",
      "  File \"D:\\objectdetection\\VehicleObjectDetection\\training\\yolov5\\yolov5\\utils\\general.py\", line 504, in check_file\n",
      "    assert len(files), f\"File not found: {file}\"  # assert file was found\n",
      "           ^^^^^^^^^^\n",
      "AssertionError: File not found: /training/car/data.yaml\n",
      "\u001B[34m\u001B[1mtrain: \u001B[0mweights=yolov5x.pt, cfg=, data=/training/licence-plate-2/data.yaml, hyp=data\\hyps\\hyp.scratch-low.yaml, epochs=100, batch_size=16, imgsz=640, rect=False, resume=False, nosave=False, noval=False, noautoanchor=False, noplots=False, evolve=None, evolve_population=data\\hyps, resume_evolve=None, bucket=, cache=None, image_weights=False, device=, multi_scale=False, single_cls=False, optimizer=SGD, sync_bn=False, workers=8, project=runs\\train, name=exp, exist_ok=False, quad=False, cos_lr=False, label_smoothing=0.0, patience=100, freeze=[0], save_period=-1, seed=0, local_rank=-1, entity=None, upload_dataset=False, bbox_interval=-1, artifact_alias=latest, ndjson_console=False, ndjson_file=False\n",
      "\u001B[34m\u001B[1mgithub: \u001B[0mup to date with https://github.com/ultralytics/yolov5 \n",
      "Traceback (most recent call last):\n",
      "  File \"D:\\objectdetection\\VehicleObjectDetection\\training\\yolov5\\yolov5\\train.py\", line 986, in <module>\n",
      "    main(opt)\n",
      "  File \"D:\\objectdetection\\VehicleObjectDetection\\training\\yolov5\\yolov5\\train.py\", line 656, in main\n",
      "    check_file(opt.data),\n",
      "    ^^^^^^^^^^^^^^^^^^^^\n",
      "  File \"D:\\objectdetection\\VehicleObjectDetection\\training\\yolov5\\yolov5\\utils\\general.py\", line 504, in check_file\n",
      "    assert len(files), f\"File not found: {file}\"  # assert file was found\n",
      "           ^^^^^^^^^^\n",
      "AssertionError: File not found: /training/licence-plate-2/data.yaml\n",
      "\u001B[34m\u001B[1mtrain: \u001B[0mweights=yolov5x.pt, cfg=, data=/training/Pedestrian-Volume-1/data.yaml, hyp=data\\hyps\\hyp.scratch-low.yaml, epochs=100, batch_size=16, imgsz=640, rect=False, resume=False, nosave=False, noval=False, noautoanchor=False, noplots=False, evolve=None, evolve_population=data\\hyps, resume_evolve=None, bucket=, cache=None, image_weights=False, device=, multi_scale=False, single_cls=False, optimizer=SGD, sync_bn=False, workers=8, project=runs\\train, name=exp, exist_ok=False, quad=False, cos_lr=False, label_smoothing=0.0, patience=100, freeze=[0], save_period=-1, seed=0, local_rank=-1, entity=None, upload_dataset=False, bbox_interval=-1, artifact_alias=latest, ndjson_console=False, ndjson_file=False\n",
      "\u001B[34m\u001B[1mgithub: \u001B[0mup to date with https://github.com/ultralytics/yolov5 \n",
      "Traceback (most recent call last):\n",
      "  File \"D:\\objectdetection\\VehicleObjectDetection\\training\\yolov5\\yolov5\\train.py\", line 986, in <module>\n",
      "    main(opt)\n",
      "  File \"D:\\objectdetection\\VehicleObjectDetection\\training\\yolov5\\yolov5\\train.py\", line 656, in main\n",
      "    check_file(opt.data),\n",
      "    ^^^^^^^^^^^^^^^^^^^^\n",
      "  File \"D:\\objectdetection\\VehicleObjectDetection\\training\\yolov5\\yolov5\\utils\\general.py\", line 504, in check_file\n",
      "    assert len(files), f\"File not found: {file}\"  # assert file was found\n",
      "           ^^^^^^^^^^\n",
      "AssertionError: File not found: /training/Pedestrian-Volume-1/data.yaml\n"
     ]
    }
   ],
   "execution_count": 2
  },
  {
   "metadata": {},
   "cell_type": "code",
   "outputs": [],
   "execution_count": null,
   "source": "",
   "id": "7e3dddb4670e8df1"
  }
 ],
 "metadata": {
  "kernelspec": {
   "display_name": "Python 3",
   "language": "python",
   "name": "python3"
  },
  "language_info": {
   "codemirror_mode": {
    "name": "ipython",
    "version": 2
   },
   "file_extension": ".py",
   "mimetype": "text/x-python",
   "name": "python",
   "nbconvert_exporter": "python",
   "pygments_lexer": "ipython2",
   "version": "2.7.6"
  }
 },
 "nbformat": 4,
 "nbformat_minor": 5
}
